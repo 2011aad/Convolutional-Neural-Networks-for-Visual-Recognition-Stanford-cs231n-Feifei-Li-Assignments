{
 "cells": [
  {
   "cell_type": "markdown",
   "metadata": {},
   "source": [
    "# Softmax exercise\n",
    "\n",
    "*Complete and hand in this completed worksheet (including its outputs and any supporting code outside of the worksheet) with your assignment submission. For more details see the [assignments page](http://vision.stanford.edu/teaching/cs231n/assignments.html) on the course website.*\n",
    "\n",
    "This exercise is analogous to the SVM exercise. You will:\n",
    "\n",
    "- implement a fully-vectorized **loss function** for the Softmax classifier\n",
    "- implement the fully-vectorized expression for its **analytic gradient**\n",
    "- **check your implementation** with numerical gradient\n",
    "- use a validation set to **tune the learning rate and regularization** strength\n",
    "- **optimize** the loss function with **SGD**\n",
    "- **visualize** the final learned weights\n"
   ]
  },
  {
   "cell_type": "code",
   "execution_count": 1,
   "metadata": {
    "collapsed": false
   },
   "outputs": [],
   "source": [
    "import random\n",
    "import numpy as np\n",
    "from cs231n.data_utils import load_CIFAR10\n",
    "import matplotlib.pyplot as plt\n",
    "\n",
    "from __future__ import print_function\n",
    "\n",
    "%matplotlib inline\n",
    "plt.rcParams['figure.figsize'] = (10.0, 8.0) # set default size of plots\n",
    "plt.rcParams['image.interpolation'] = 'nearest'\n",
    "plt.rcParams['image.cmap'] = 'gray'\n",
    "\n",
    "# for auto-reloading extenrnal modules\n",
    "# see http://stackoverflow.com/questions/1907993/autoreload-of-modules-in-ipython\n",
    "%load_ext autoreload\n",
    "%autoreload 2"
   ]
  },
  {
   "cell_type": "code",
   "execution_count": 2,
   "metadata": {
    "collapsed": false
   },
   "outputs": [
    {
     "name": "stdout",
     "output_type": "stream",
     "text": [
      "Train data shape:  (49000, 3073)\n",
      "Train labels shape:  (49000,)\n",
      "Validation data shape:  (1000, 3073)\n",
      "Validation labels shape:  (1000,)\n",
      "Test data shape:  (1000, 3073)\n",
      "Test labels shape:  (1000,)\n",
      "dev data shape:  (500, 3073)\n",
      "dev labels shape:  (500,)\n"
     ]
    }
   ],
   "source": [
    "def get_CIFAR10_data(num_training=49000, num_validation=1000, num_test=1000, num_dev=500):\n",
    "    \"\"\"\n",
    "    Load the CIFAR-10 dataset from disk and perform preprocessing to prepare\n",
    "    it for the linear classifier. These are the same steps as we used for the\n",
    "    SVM, but condensed to a single function.  \n",
    "    \"\"\"\n",
    "    # Load the raw CIFAR-10 data\n",
    "    cifar10_dir = 'cs231n/datasets/cifar-10-batches-py'\n",
    "    X_train, y_train, X_test, y_test = load_CIFAR10(cifar10_dir)\n",
    "    \n",
    "    # subsample the data\n",
    "    mask = list(range(num_training, num_training + num_validation))\n",
    "    X_val = X_train[mask]\n",
    "    y_val = y_train[mask]\n",
    "    mask = list(range(num_training))\n",
    "    X_train = X_train[mask]\n",
    "    y_train = y_train[mask]\n",
    "    mask = list(range(num_test))\n",
    "    X_test = X_test[mask]\n",
    "    y_test = y_test[mask]\n",
    "    mask = np.random.choice(num_training, num_dev, replace=False)\n",
    "    X_dev = X_train[mask]\n",
    "    y_dev = y_train[mask]\n",
    "    \n",
    "    # Preprocessing: reshape the image data into rows\n",
    "    X_train = np.reshape(X_train, (X_train.shape[0], -1))\n",
    "    X_val = np.reshape(X_val, (X_val.shape[0], -1))\n",
    "    X_test = np.reshape(X_test, (X_test.shape[0], -1))\n",
    "    X_dev = np.reshape(X_dev, (X_dev.shape[0], -1))\n",
    "    \n",
    "    # Normalize the data: subtract the mean image\n",
    "    mean_image = np.mean(X_train, axis = 0)\n",
    "    X_train -= mean_image\n",
    "    X_val -= mean_image\n",
    "    X_test -= mean_image\n",
    "    X_dev -= mean_image\n",
    "    \n",
    "    # add bias dimension and transform into columns\n",
    "    X_train = np.hstack([X_train, np.ones((X_train.shape[0], 1))])\n",
    "    X_val = np.hstack([X_val, np.ones((X_val.shape[0], 1))])\n",
    "    X_test = np.hstack([X_test, np.ones((X_test.shape[0], 1))])\n",
    "    X_dev = np.hstack([X_dev, np.ones((X_dev.shape[0], 1))])\n",
    "    \n",
    "    return X_train, y_train, X_val, y_val, X_test, y_test, X_dev, y_dev\n",
    "\n",
    "\n",
    "# Invoke the above function to get our data.\n",
    "X_train, y_train, X_val, y_val, X_test, y_test, X_dev, y_dev = get_CIFAR10_data()\n",
    "print('Train data shape: ', X_train.shape)\n",
    "print('Train labels shape: ', y_train.shape)\n",
    "print('Validation data shape: ', X_val.shape)\n",
    "print('Validation labels shape: ', y_val.shape)\n",
    "print('Test data shape: ', X_test.shape)\n",
    "print('Test labels shape: ', y_test.shape)\n",
    "print('dev data shape: ', X_dev.shape)\n",
    "print('dev labels shape: ', y_dev.shape)"
   ]
  },
  {
   "cell_type": "markdown",
   "metadata": {},
   "source": [
    "## Softmax Classifier\n",
    "\n",
    "Your code for this section will all be written inside **cs231n/classifiers/softmax.py**. \n"
   ]
  },
  {
   "cell_type": "code",
   "execution_count": 11,
   "metadata": {
    "collapsed": false
   },
   "outputs": [
    {
     "name": "stdout",
     "output_type": "stream",
     "text": [
      "loss: 2.374212\n",
      "sanity check: 2.302585\n"
     ]
    }
   ],
   "source": [
    "# First implement the naive softmax loss function with nested loops.\n",
    "# Open the file cs231n/classifiers/softmax.py and implement the\n",
    "# softmax_loss_naive function.\n",
    "\n",
    "from cs231n.classifiers.softmax import softmax_loss_naive\n",
    "import time\n",
    "\n",
    "# Generate a random softmax weight matrix and use it to compute the loss.\n",
    "W = np.random.randn(3073, 10) * 0.0001\n",
    "loss, grad = softmax_loss_naive(W, X_dev, y_dev, 0.0)\n",
    "\n",
    "# As a rough sanity check, our loss should be something close to -log(0.1).\n",
    "print('loss: %f' % loss)\n",
    "print('sanity check: %f' % (-np.log(0.1)))"
   ]
  },
  {
   "cell_type": "markdown",
   "metadata": {},
   "source": [
    "## Inline Question 1:\n",
    "Why do we expect our loss to be close to -log(0.1)? Explain briefly.**\n",
    "\n",
    "**Your answer:** *Fill this in*\n"
   ]
  },
  {
   "cell_type": "code",
   "execution_count": 8,
   "metadata": {
    "collapsed": false
   },
   "outputs": [
    {
     "name": "stdout",
     "output_type": "stream",
     "text": [
      "numerical: 0.112300 analytic: 0.112300, relative error: 1.411887e-07\n",
      "numerical: 0.209612 analytic: 0.209612, relative error: 2.095227e-07\n",
      "numerical: -0.573851 analytic: -0.573851, relative error: 3.263268e-10\n",
      "numerical: 2.133690 analytic: 2.133690, relative error: 2.087631e-08\n",
      "numerical: 0.408824 analytic: 0.408823, relative error: 1.464559e-07\n",
      "numerical: 1.753151 analytic: 1.753151, relative error: 2.806344e-10\n",
      "numerical: -0.292933 analytic: -0.292933, relative error: 8.456319e-09\n",
      "numerical: -1.844186 analytic: -1.844186, relative error: 8.027573e-09\n",
      "numerical: -0.386924 analytic: -0.386924, relative error: 6.925115e-08\n",
      "numerical: 0.266728 analytic: 0.266728, relative error: 1.367179e-07\n",
      "numerical: 2.374507 analytic: 2.374507, relative error: 2.685278e-08\n",
      "numerical: -0.140834 analytic: -0.140834, relative error: 5.668302e-07\n",
      "numerical: 0.758574 analytic: 0.758574, relative error: 1.489252e-09\n",
      "numerical: 0.406095 analytic: 0.406095, relative error: 4.813653e-08\n",
      "numerical: -1.543819 analytic: -1.543819, relative error: 2.833395e-08\n",
      "numerical: -1.357730 analytic: -1.357730, relative error: 7.165843e-08\n",
      "numerical: 0.364492 analytic: 0.364492, relative error: 1.445255e-07\n",
      "numerical: -1.577156 analytic: -1.577156, relative error: 8.518271e-09\n",
      "numerical: 2.425604 analytic: 2.425604, relative error: 7.088271e-09\n",
      "numerical: 2.651101 analytic: 2.651101, relative error: 1.343374e-08\n"
     ]
    }
   ],
   "source": [
    "# Complete the implementation of softmax_loss_naive and implement a (naive)\n",
    "# version of the gradient that uses nested loops.\n",
    "loss, grad = softmax_loss_naive(W, X_dev, y_dev, 0.0)\n",
    "\n",
    "# As we did for the SVM, use numeric gradient checking as a debugging tool.\n",
    "# The numeric gradient should be close to the analytic gradient.\n",
    "from cs231n.gradient_check import grad_check_sparse\n",
    "f = lambda w: softmax_loss_naive(w, X_dev, y_dev, 0.0)[0]\n",
    "grad_numerical = grad_check_sparse(f, W, grad, 10)\n",
    "\n",
    "# similar to SVM case, do another gradient check with regularization\n",
    "loss, grad = softmax_loss_naive(W, X_dev, y_dev, 5e1)\n",
    "f = lambda w: softmax_loss_naive(w, X_dev, y_dev, 5e1)[0]\n",
    "grad_numerical = grad_check_sparse(f, W, grad, 10)"
   ]
  },
  {
   "cell_type": "code",
   "execution_count": 19,
   "metadata": {
    "collapsed": false
   },
   "outputs": [
    {
     "name": "stdout",
     "output_type": "stream",
     "text": [
      "naive loss: 2.374212e+00 computed in 0.129717s\n",
      "vectorized loss: 2.374212e+00 computed in 0.011340s\n",
      "Loss difference: 0.000000\n",
      "Gradient difference: 0.000000\n"
     ]
    }
   ],
   "source": [
    "# Now that we have a naive implementation of the softmax loss function and its gradient,\n",
    "# implement a vectorized version in softmax_loss_vectorized.\n",
    "# The two versions should compute the same results, but the vectorized version should be\n",
    "# much faster.\n",
    "tic = time.time()\n",
    "loss_naive, grad_naive = softmax_loss_naive(W, X_dev, y_dev, 0.000005)\n",
    "toc = time.time()\n",
    "print('naive loss: %e computed in %fs' % (loss_naive, toc - tic))\n",
    "\n",
    "from cs231n.classifiers.softmax import softmax_loss_vectorized\n",
    "tic = time.time()\n",
    "loss_vectorized, grad_vectorized = softmax_loss_vectorized(W, X_dev, y_dev, 0.000005)\n",
    "toc = time.time()\n",
    "print('vectorized loss: %e computed in %fs' % (loss_vectorized, toc - tic))\n",
    "\n",
    "# As we did for the SVM, we use the Frobenius norm to compare the two versions\n",
    "# of the gradient.\n",
    "grad_difference = np.linalg.norm(grad_naive - grad_vectorized, ord='fro')\n",
    "print('Loss difference: %f' % np.abs(loss_naive - loss_vectorized))\n",
    "print('Gradient difference: %f' % grad_difference)"
   ]
  },
  {
   "cell_type": "code",
   "execution_count": 24,
   "metadata": {
    "collapsed": false
   },
   "outputs": [
    {
     "name": "stdout",
     "output_type": "stream",
     "text": [
      "iteration 0 / 2000: loss 314.671435\n",
      "iteration 100 / 2000: loss 120.325128\n",
      "iteration 200 / 2000: loss 46.823505\n",
      "iteration 300 / 2000: loss 19.087856\n",
      "iteration 400 / 2000: loss 8.529279\n",
      "iteration 500 / 2000: loss 4.483226\n",
      "iteration 600 / 2000: loss 2.889291\n",
      "iteration 700 / 2000: loss 2.422587\n",
      "iteration 800 / 2000: loss 2.173434\n",
      "iteration 900 / 2000: loss 2.023917\n",
      "iteration 1000 / 2000: loss 1.973053\n",
      "iteration 1100 / 2000: loss 1.925540\n",
      "iteration 1200 / 2000: loss 1.927433\n",
      "iteration 1300 / 2000: loss 2.031103\n",
      "iteration 1400 / 2000: loss 2.037184\n",
      "iteration 1500 / 2000: loss 1.983364\n",
      "iteration 1600 / 2000: loss 2.004672\n",
      "iteration 1700 / 2000: loss 1.999338\n",
      "iteration 1800 / 2000: loss 2.000085\n",
      "iteration 1900 / 2000: loss 2.057001\n",
      "iteration 0 / 2000: loss 374.463299\n",
      "iteration 100 / 2000: loss 118.092386\n",
      "iteration 200 / 2000: loss 38.396090\n",
      "iteration 300 / 2000: loss 13.357335\n",
      "iteration 400 / 2000: loss 5.653759\n",
      "iteration 500 / 2000: loss 3.217059\n",
      "iteration 600 / 2000: loss 2.346066\n",
      "iteration 700 / 2000: loss 2.100829\n",
      "iteration 800 / 2000: loss 1.982029\n",
      "iteration 900 / 2000: loss 2.017970\n",
      "iteration 1000 / 2000: loss 2.021021\n",
      "iteration 1100 / 2000: loss 2.120964\n",
      "iteration 1200 / 2000: loss 1.973114\n",
      "iteration 1300 / 2000: loss 2.068098\n",
      "iteration 1400 / 2000: loss 1.977737\n",
      "iteration 1500 / 2000: loss 1.987080\n",
      "iteration 1600 / 2000: loss 2.008536\n",
      "iteration 1700 / 2000: loss 2.032061\n",
      "iteration 1800 / 2000: loss 2.060105\n",
      "iteration 1900 / 2000: loss 1.968364\n",
      "iteration 0 / 2000: loss 310.780762\n",
      "iteration 100 / 2000: loss 114.121362\n",
      "iteration 200 / 2000: loss 42.929726\n",
      "iteration 300 / 2000: loss 16.999238\n",
      "iteration 400 / 2000: loss 7.478596\n",
      "iteration 500 / 2000: loss 4.023147\n",
      "iteration 600 / 2000: loss 2.721700\n",
      "iteration 700 / 2000: loss 2.305407\n",
      "iteration 800 / 2000: loss 2.111823\n",
      "iteration 900 / 2000: loss 2.065841\n",
      "iteration 1000 / 2000: loss 1.990070\n",
      "iteration 1100 / 2000: loss 1.969150\n",
      "iteration 1200 / 2000: loss 1.953481\n",
      "iteration 1300 / 2000: loss 1.993080\n",
      "iteration 1400 / 2000: loss 2.065338\n",
      "iteration 1500 / 2000: loss 2.033456\n",
      "iteration 1600 / 2000: loss 2.041978\n",
      "iteration 1700 / 2000: loss 1.984937\n",
      "iteration 1800 / 2000: loss 2.020804\n",
      "iteration 1900 / 2000: loss 2.038286\n",
      "iteration 0 / 2000: loss 375.162882\n",
      "iteration 100 / 2000: loss 112.827947\n",
      "iteration 200 / 2000: loss 35.083799\n",
      "iteration 300 / 2000: loss 11.880270\n",
      "iteration 400 / 2000: loss 5.010560\n",
      "iteration 500 / 2000: loss 2.900863\n",
      "iteration 600 / 2000: loss 2.255469\n",
      "iteration 700 / 2000: loss 2.089210\n",
      "iteration 800 / 2000: loss 2.053340\n",
      "iteration 900 / 2000: loss 1.977391\n",
      "iteration 1000 / 2000: loss 2.071982\n",
      "iteration 1100 / 2000: loss 2.072791\n",
      "iteration 1200 / 2000: loss 2.039421\n",
      "iteration 1300 / 2000: loss 2.024399\n",
      "iteration 1400 / 2000: loss 2.014818\n",
      "iteration 1500 / 2000: loss 2.059972\n",
      "iteration 1600 / 2000: loss 2.042077\n",
      "iteration 1700 / 2000: loss 2.028690\n",
      "iteration 1800 / 2000: loss 2.097902\n",
      "iteration 1900 / 2000: loss 2.014947\n",
      "lr 2.400000e-07 reg 1.000000e+04 train accuracy: 0.356633 val accuracy: 0.362000\n",
      "lr 2.400000e-07 reg 1.200000e+04 train accuracy: 0.350408 val accuracy: 0.360000\n",
      "lr 2.500000e-07 reg 1.000000e+04 train accuracy: 0.358490 val accuracy: 0.379000\n",
      "lr 2.500000e-07 reg 1.200000e+04 train accuracy: 0.345837 val accuracy: 0.359000\n",
      "best validation accuracy achieved during cross-validation: 0.379000\n"
     ]
    }
   ],
   "source": [
    "# Use the validation set to tune hyperparameters (regularization strength and\n",
    "# learning rate). You should experiment with different ranges for the learning\n",
    "# rates and regularization strengths; if you are careful you should be able to\n",
    "# get a classification accuracy of over 0.35 on the validation set.\n",
    "from cs231n.classifiers import Softmax\n",
    "results = {}\n",
    "best_val = -1\n",
    "best_softmax = None\n",
    "learning_rates = [2.4e-7, 2.5e-7]\n",
    "regularization_strengths = [1e4, 1.2e4]\n",
    "\n",
    "################################################################################\n",
    "# TODO:                                                                        #\n",
    "# Use the validation set to set the learning rate and regularization strength. #\n",
    "# This should be identical to the validation that you did for the SVM; save    #\n",
    "# the best trained softmax classifer in best_softmax.                          #\n",
    "################################################################################\n",
    "for lr in learning_rates:\n",
    "    for rs in regularization_strengths:\n",
    "        softmax = Softmax()\n",
    "        loss_hist = softmax.train(X_train, y_train, learning_rate=lr, reg=rs,\n",
    "                      num_iters=2000, verbose=True)\n",
    "        y_train_pred = softmax.predict(X_train)\n",
    "        training_accuracy = np.mean(y_train == y_train_pred)\n",
    "        y_val_pred = softmax.predict(X_val)\n",
    "        validation_accuracy = np.mean(y_val == y_val_pred)\n",
    "        \n",
    "        results[(lr, rs)] = (training_accuracy, validation_accuracy)\n",
    "        \n",
    "        if validation_accuracy > best_val:\n",
    "            best_val = validation_accuracy\n",
    "            best_softmax = softmax\n",
    "################################################################################\n",
    "#                              END OF YOUR CODE                                #\n",
    "################################################################################\n",
    "    \n",
    "# Print out results.\n",
    "for lr, reg in sorted(results):\n",
    "    train_accuracy, val_accuracy = results[(lr, reg)]\n",
    "    print('lr %e reg %e train accuracy: %f val accuracy: %f' % (\n",
    "                lr, reg, train_accuracy, val_accuracy))\n",
    "    \n",
    "print('best validation accuracy achieved during cross-validation: %f' % best_val)"
   ]
  },
  {
   "cell_type": "code",
   "execution_count": 26,
   "metadata": {
    "collapsed": false
   },
   "outputs": [
    {
     "name": "stdout",
     "output_type": "stream",
     "text": [
      "softmax on raw pixels final test set accuracy: 0.364000\n"
     ]
    }
   ],
   "source": [
    "# evaluate on test set\n",
    "# Evaluate the best softmax on test set\n",
    "y_test_pred = best_softmax.predict(X_test)\n",
    "test_accuracy = np.mean(y_test == y_test_pred)\n",
    "print('softmax on raw pixels final test set accuracy: %f' % (test_accuracy, ))"
   ]
  },
  {
   "cell_type": "code",
   "execution_count": 27,
   "metadata": {
    "collapsed": false
   },
   "outputs": [
    {
     "data": {
      "image/png": "[encoded data removed]",
      "text/plain": [
       "<matplotlib.figure.Figure at 0x7f36f6763810>"
      ]
     },
     "metadata": {},
     "output_type": "display_data"
    }
   ],
   "source": [
    "# Visualize the learned weights for each class\n",
    "w = best_softmax.W[:-1,:] # strip out the bias\n",
    "w = w.reshape(32, 32, 3, 10)\n",
    "\n",
    "w_min, w_max = np.min(w), np.max(w)\n",
    "\n",
    "classes = ['plane', 'car', 'bird', 'cat', 'deer', 'dog', 'frog', 'horse', 'ship', 'truck']\n",
    "for i in range(10):\n",
    "    plt.subplot(2, 5, i + 1)\n",
    "    \n",
    "    # Rescale the weights to be between 0 and 255\n",
    "    wimg = 255.0 * (w[:, :, :, i].squeeze() - w_min) / (w_max - w_min)\n",
    "    plt.imshow(wimg.astype('uint8'))\n",
    "    plt.axis('off')\n",
    "    plt.title(classes[i])"
   ]
  },
  {
   "cell_type": "code",
   "execution_count": null,
   "metadata": {
    "collapsed": true
   },
   "outputs": [],
   "source": []
  }
 ],
 "metadata": {
  "kernelspec": {
   "display_name": "Python 2",
   "language": "python",
   "name": "python2"
  },
  "language_info": {
   "codemirror_mode": {
    "name": "ipython",
    "version": 2
   },
   "file_extension": ".py",
   "mimetype": "text/x-python",
   "name": "python",
   "nbconvert_exporter": "python",
   "pygments_lexer": "ipython2",
   "version": "2.7.12"
  }
 },
 "nbformat": 4,
 "nbformat_minor": 0
}
